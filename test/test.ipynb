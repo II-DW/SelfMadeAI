{
 "cells": [
  {
   "cell_type": "code",
   "execution_count": 10,
   "metadata": {},
   "outputs": [],
   "source": [
    "# write_data.py\n",
    "f = open(\"C:/Users/dowon/OneDrive/PYTHON/프로젝트/SelfMadeAI/data/mnist_train.txt\", 'r')\n",
    "\n",
    "n = 0\n",
    "\n",
    "f.readline()\n",
    "\n",
    "label = []\n",
    "data = []\n",
    "\n",
    "while True:\n",
    "\n",
    "    line = f.readline()\n",
    "\n",
    "    if not line: \n",
    "        break\n",
    "    \n",
    "    L = line.split(',')\n",
    "    label.append(int(L[0]))\n",
    "\n",
    "    y = []\n",
    "    for i in range (28) :\n",
    "        x = []\n",
    "        for j in range (28) :\n",
    "            x.append(int(L[28*i+j+1]))\n",
    "        y.append(x)\n",
    "        \n",
    "    data.append(y)\n",
    "    n+=1\n",
    "\n",
    "\n",
    "f.close()\n"
   ]
  },
  {
   "cell_type": "code",
   "execution_count": null,
   "metadata": {},
   "outputs": [],
   "source": [
    "kernal_size = (4, 4)\n",
    "\n",
    "kernal = []"
   ]
  }
 ],
 "metadata": {
  "kernelspec": {
   "display_name": "Python 3",
   "language": "python",
   "name": "python3"
  },
  "language_info": {
   "codemirror_mode": {
    "name": "ipython",
    "version": 3
   },
   "file_extension": ".py",
   "mimetype": "text/x-python",
   "name": "python",
   "nbconvert_exporter": "python",
   "pygments_lexer": "ipython3",
   "version": "3.10.6"
  }
 },
 "nbformat": 4,
 "nbformat_minor": 2
}
